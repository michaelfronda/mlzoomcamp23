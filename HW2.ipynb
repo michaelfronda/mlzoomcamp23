{
 "cells": [
  {
   "cell_type": "markdown",
   "metadata": {},
   "source": [
    "# HW2"
   ]
  },
  {
   "cell_type": "code",
   "execution_count": 9,
   "metadata": {},
   "outputs": [],
   "source": [
    "import pandas as pd \n",
    "import numpy as np\n",
    "import matplotlib.pyplot as plt\n",
    "import seaborn as sns \n"
   ]
  },
  {
   "cell_type": "code",
   "execution_count": 3,
   "metadata": {},
   "outputs": [],
   "source": [
    "df = pd.read_csv('HW1-Housing-data.csv')"
   ]
  },
  {
   "cell_type": "code",
   "execution_count": 52,
   "metadata": {},
   "outputs": [],
   "source": [
    "cols = ['latitude',\n",
    "        'longitude',\n",
    "        'housing_median_age',\n",
    "        'total_rooms',\n",
    "        'total_bedrooms',\n",
    "        'population',\n",
    "        'households',\n",
    "        'median_income',\n",
    "        'median_house_value'\n",
    "       ]\n",
    "\n",
    "df_use = df[df['ocean_proximity'].isin(['<1H OCEAN', 'INLAND'])][cols]"
   ]
  },
  {
   "cell_type": "code",
   "execution_count": 53,
   "metadata": {},
   "outputs": [
    {
     "name": "stdout",
     "output_type": "stream",
     "text": [
      "Head\n",
      "========================\n",
      "\n"
     ]
    },
    {
     "data": {
      "text/html": [
       "<div>\n",
       "<style scoped>\n",
       "    .dataframe tbody tr th:only-of-type {\n",
       "        vertical-align: middle;\n",
       "    }\n",
       "\n",
       "    .dataframe tbody tr th {\n",
       "        vertical-align: top;\n",
       "    }\n",
       "\n",
       "    .dataframe thead th {\n",
       "        text-align: right;\n",
       "    }\n",
       "</style>\n",
       "<table border=\"1\" class=\"dataframe\">\n",
       "  <thead>\n",
       "    <tr style=\"text-align: right;\">\n",
       "      <th></th>\n",
       "      <th>latitude</th>\n",
       "      <th>longitude</th>\n",
       "      <th>housing_median_age</th>\n",
       "      <th>total_rooms</th>\n",
       "      <th>total_bedrooms</th>\n",
       "      <th>population</th>\n",
       "      <th>households</th>\n",
       "      <th>median_income</th>\n",
       "      <th>median_house_value</th>\n",
       "    </tr>\n",
       "  </thead>\n",
       "  <tbody>\n",
       "    <tr>\n",
       "      <th>701</th>\n",
       "      <td>37.64</td>\n",
       "      <td>121.97</td>\n",
       "      <td>32</td>\n",
       "      <td>1283</td>\n",
       "      <td>194.0</td>\n",
       "      <td>485</td>\n",
       "      <td>171</td>\n",
       "      <td>6.0574</td>\n",
       "      <td>431000</td>\n",
       "    </tr>\n",
       "    <tr>\n",
       "      <th>830</th>\n",
       "      <td>37.61</td>\n",
       "      <td>121.99</td>\n",
       "      <td>9</td>\n",
       "      <td>3666</td>\n",
       "      <td>711.0</td>\n",
       "      <td>2341</td>\n",
       "      <td>703</td>\n",
       "      <td>4.6458</td>\n",
       "      <td>217000</td>\n",
       "    </tr>\n",
       "    <tr>\n",
       "      <th>859</th>\n",
       "      <td>37.57</td>\n",
       "      <td>121.97</td>\n",
       "      <td>21</td>\n",
       "      <td>4342</td>\n",
       "      <td>783.0</td>\n",
       "      <td>2172</td>\n",
       "      <td>789</td>\n",
       "      <td>4.6146</td>\n",
       "      <td>247600</td>\n",
       "    </tr>\n",
       "    <tr>\n",
       "      <th>860</th>\n",
       "      <td>37.58</td>\n",
       "      <td>121.96</td>\n",
       "      <td>15</td>\n",
       "      <td>3575</td>\n",
       "      <td>597.0</td>\n",
       "      <td>1777</td>\n",
       "      <td>559</td>\n",
       "      <td>5.7192</td>\n",
       "      <td>283500</td>\n",
       "    </tr>\n",
       "    <tr>\n",
       "      <th>861</th>\n",
       "      <td>37.58</td>\n",
       "      <td>121.98</td>\n",
       "      <td>20</td>\n",
       "      <td>4126</td>\n",
       "      <td>1031.0</td>\n",
       "      <td>2079</td>\n",
       "      <td>975</td>\n",
       "      <td>3.6832</td>\n",
       "      <td>216900</td>\n",
       "    </tr>\n",
       "  </tbody>\n",
       "</table>\n",
       "</div>"
      ],
      "text/plain": [
       "     latitude  longitude  housing_median_age  total_rooms  total_bedrooms  \\\n",
       "701     37.64     121.97                  32         1283           194.0   \n",
       "830     37.61     121.99                   9         3666           711.0   \n",
       "859     37.57     121.97                  21         4342           783.0   \n",
       "860     37.58     121.96                  15         3575           597.0   \n",
       "861     37.58     121.98                  20         4126          1031.0   \n",
       "\n",
       "     population  households  median_income  median_house_value  \n",
       "701         485         171         6.0574              431000  \n",
       "830        2341         703         4.6458              217000  \n",
       "859        2172         789         4.6146              247600  \n",
       "860        1777         559         5.7192              283500  \n",
       "861        2079         975         3.6832              216900  "
      ]
     },
     "metadata": {},
     "output_type": "display_data"
    },
    {
     "name": "stdout",
     "output_type": "stream",
     "text": [
      "\n",
      "Tail\n",
      "========================\n",
      "\n"
     ]
    },
    {
     "data": {
      "text/html": [
       "<div>\n",
       "<style scoped>\n",
       "    .dataframe tbody tr th:only-of-type {\n",
       "        vertical-align: middle;\n",
       "    }\n",
       "\n",
       "    .dataframe tbody tr th {\n",
       "        vertical-align: top;\n",
       "    }\n",
       "\n",
       "    .dataframe thead th {\n",
       "        text-align: right;\n",
       "    }\n",
       "</style>\n",
       "<table border=\"1\" class=\"dataframe\">\n",
       "  <thead>\n",
       "    <tr style=\"text-align: right;\">\n",
       "      <th></th>\n",
       "      <th>latitude</th>\n",
       "      <th>longitude</th>\n",
       "      <th>housing_median_age</th>\n",
       "      <th>total_rooms</th>\n",
       "      <th>total_bedrooms</th>\n",
       "      <th>population</th>\n",
       "      <th>households</th>\n",
       "      <th>median_income</th>\n",
       "      <th>median_house_value</th>\n",
       "    </tr>\n",
       "  </thead>\n",
       "  <tbody>\n",
       "    <tr>\n",
       "      <th>20635</th>\n",
       "      <td>39.48</td>\n",
       "      <td>121.09</td>\n",
       "      <td>25</td>\n",
       "      <td>1665</td>\n",
       "      <td>374.0</td>\n",
       "      <td>845</td>\n",
       "      <td>330</td>\n",
       "      <td>1.5603</td>\n",
       "      <td>78100</td>\n",
       "    </tr>\n",
       "    <tr>\n",
       "      <th>20636</th>\n",
       "      <td>39.49</td>\n",
       "      <td>121.21</td>\n",
       "      <td>18</td>\n",
       "      <td>697</td>\n",
       "      <td>150.0</td>\n",
       "      <td>356</td>\n",
       "      <td>114</td>\n",
       "      <td>2.5568</td>\n",
       "      <td>77100</td>\n",
       "    </tr>\n",
       "    <tr>\n",
       "      <th>20637</th>\n",
       "      <td>39.43</td>\n",
       "      <td>121.22</td>\n",
       "      <td>17</td>\n",
       "      <td>2254</td>\n",
       "      <td>485.0</td>\n",
       "      <td>1007</td>\n",
       "      <td>433</td>\n",
       "      <td>1.7000</td>\n",
       "      <td>92300</td>\n",
       "    </tr>\n",
       "    <tr>\n",
       "      <th>20638</th>\n",
       "      <td>39.43</td>\n",
       "      <td>121.32</td>\n",
       "      <td>18</td>\n",
       "      <td>1860</td>\n",
       "      <td>409.0</td>\n",
       "      <td>741</td>\n",
       "      <td>349</td>\n",
       "      <td>1.8672</td>\n",
       "      <td>84700</td>\n",
       "    </tr>\n",
       "    <tr>\n",
       "      <th>20639</th>\n",
       "      <td>39.37</td>\n",
       "      <td>121.24</td>\n",
       "      <td>16</td>\n",
       "      <td>2785</td>\n",
       "      <td>616.0</td>\n",
       "      <td>1387</td>\n",
       "      <td>530</td>\n",
       "      <td>2.3886</td>\n",
       "      <td>89400</td>\n",
       "    </tr>\n",
       "  </tbody>\n",
       "</table>\n",
       "</div>"
      ],
      "text/plain": [
       "       latitude  longitude  housing_median_age  total_rooms  total_bedrooms  \\\n",
       "20635     39.48     121.09                  25         1665           374.0   \n",
       "20636     39.49     121.21                  18          697           150.0   \n",
       "20637     39.43     121.22                  17         2254           485.0   \n",
       "20638     39.43     121.32                  18         1860           409.0   \n",
       "20639     39.37     121.24                  16         2785           616.0   \n",
       "\n",
       "       population  households  median_income  median_house_value  \n",
       "20635         845         330         1.5603               78100  \n",
       "20636         356         114         2.5568               77100  \n",
       "20637        1007         433         1.7000               92300  \n",
       "20638         741         349         1.8672               84700  \n",
       "20639        1387         530         2.3886               89400  "
      ]
     },
     "metadata": {},
     "output_type": "display_data"
    },
    {
     "name": "stdout",
     "output_type": "stream",
     "text": [
      "\n",
      "Sample 5\n",
      "========================\n",
      "\n"
     ]
    },
    {
     "data": {
      "text/html": [
       "<div>\n",
       "<style scoped>\n",
       "    .dataframe tbody tr th:only-of-type {\n",
       "        vertical-align: middle;\n",
       "    }\n",
       "\n",
       "    .dataframe tbody tr th {\n",
       "        vertical-align: top;\n",
       "    }\n",
       "\n",
       "    .dataframe thead th {\n",
       "        text-align: right;\n",
       "    }\n",
       "</style>\n",
       "<table border=\"1\" class=\"dataframe\">\n",
       "  <thead>\n",
       "    <tr style=\"text-align: right;\">\n",
       "      <th></th>\n",
       "      <th>latitude</th>\n",
       "      <th>longitude</th>\n",
       "      <th>housing_median_age</th>\n",
       "      <th>total_rooms</th>\n",
       "      <th>total_bedrooms</th>\n",
       "      <th>population</th>\n",
       "      <th>households</th>\n",
       "      <th>median_income</th>\n",
       "      <th>median_house_value</th>\n",
       "    </tr>\n",
       "  </thead>\n",
       "  <tbody>\n",
       "    <tr>\n",
       "      <th>10756</th>\n",
       "      <td>33.61</td>\n",
       "      <td>117.90</td>\n",
       "      <td>44</td>\n",
       "      <td>1469</td>\n",
       "      <td>312.0</td>\n",
       "      <td>507</td>\n",
       "      <td>266</td>\n",
       "      <td>3.4937</td>\n",
       "      <td>500001</td>\n",
       "    </tr>\n",
       "    <tr>\n",
       "      <th>5468</th>\n",
       "      <td>33.99</td>\n",
       "      <td>118.47</td>\n",
       "      <td>52</td>\n",
       "      <td>2167</td>\n",
       "      <td>622.0</td>\n",
       "      <td>1095</td>\n",
       "      <td>570</td>\n",
       "      <td>2.8514</td>\n",
       "      <td>358700</td>\n",
       "    </tr>\n",
       "    <tr>\n",
       "      <th>10413</th>\n",
       "      <td>33.66</td>\n",
       "      <td>117.64</td>\n",
       "      <td>6</td>\n",
       "      <td>5221</td>\n",
       "      <td>1217.0</td>\n",
       "      <td>2597</td>\n",
       "      <td>1119</td>\n",
       "      <td>4.6076</td>\n",
       "      <td>204000</td>\n",
       "    </tr>\n",
       "    <tr>\n",
       "      <th>7876</th>\n",
       "      <td>33.88</td>\n",
       "      <td>118.14</td>\n",
       "      <td>24</td>\n",
       "      <td>3305</td>\n",
       "      <td>982.0</td>\n",
       "      <td>2085</td>\n",
       "      <td>881</td>\n",
       "      <td>2.6641</td>\n",
       "      <td>168200</td>\n",
       "    </tr>\n",
       "    <tr>\n",
       "      <th>9495</th>\n",
       "      <td>39.34</td>\n",
       "      <td>123.81</td>\n",
       "      <td>17</td>\n",
       "      <td>1981</td>\n",
       "      <td>371.0</td>\n",
       "      <td>773</td>\n",
       "      <td>325</td>\n",
       "      <td>3.1563</td>\n",
       "      <td>277000</td>\n",
       "    </tr>\n",
       "  </tbody>\n",
       "</table>\n",
       "</div>"
      ],
      "text/plain": [
       "       latitude  longitude  housing_median_age  total_rooms  total_bedrooms  \\\n",
       "10756     33.61     117.90                  44         1469           312.0   \n",
       "5468      33.99     118.47                  52         2167           622.0   \n",
       "10413     33.66     117.64                   6         5221          1217.0   \n",
       "7876      33.88     118.14                  24         3305           982.0   \n",
       "9495      39.34     123.81                  17         1981           371.0   \n",
       "\n",
       "       population  households  median_income  median_house_value  \n",
       "10756         507         266         3.4937              500001  \n",
       "5468         1095         570         2.8514              358700  \n",
       "10413        2597        1119         4.6076              204000  \n",
       "7876         2085         881         2.6641              168200  \n",
       "9495          773         325         3.1563              277000  "
      ]
     },
     "metadata": {},
     "output_type": "display_data"
    }
   ],
   "source": [
    "print('Head\\n========================\\n')\n",
    "display(df_use.head())\n",
    "\n",
    "print('\\nTail\\n========================\\n')\n",
    "display(df_use.tail())\n",
    "\n",
    "print('\\nSample 5\\n========================\\n')\n",
    "display(df_use.sample(5))"
   ]
  },
  {
   "cell_type": "code",
   "execution_count": 55,
   "metadata": {},
   "outputs": [
    {
     "name": "stdout",
     "output_type": "stream",
     "text": [
      "<class 'pandas.core.frame.DataFrame'>\n",
      "RangeIndex: 20640 entries, 0 to 20639\n",
      "Data columns (total 10 columns):\n",
      " #   Column              Non-Null Count  Dtype  \n",
      "---  ------              --------------  -----  \n",
      " 0   longitude           20640 non-null  float64\n",
      " 1   latitude            20640 non-null  float64\n",
      " 2   housing_median_age  20640 non-null  int64  \n",
      " 3   total_rooms         20640 non-null  int64  \n",
      " 4   total_bedrooms      20433 non-null  float64\n",
      " 5   population          20640 non-null  int64  \n",
      " 6   households          20640 non-null  int64  \n",
      " 7   median_income       20640 non-null  float64\n",
      " 8   median_house_value  20640 non-null  int64  \n",
      " 9   ocean_proximity     20640 non-null  object \n",
      "dtypes: float64(4), int64(5), object(1)\n",
      "memory usage: 1.6+ MB\n"
     ]
    }
   ],
   "source": [
    "# original\n",
    "df.info()"
   ]
  },
  {
   "cell_type": "code",
   "execution_count": 54,
   "metadata": {},
   "outputs": [
    {
     "name": "stdout",
     "output_type": "stream",
     "text": [
      "<class 'pandas.core.frame.DataFrame'>\n",
      "Index: 15687 entries, 701 to 20639\n",
      "Data columns (total 9 columns):\n",
      " #   Column              Non-Null Count  Dtype  \n",
      "---  ------              --------------  -----  \n",
      " 0   latitude            15687 non-null  float64\n",
      " 1   longitude           15687 non-null  float64\n",
      " 2   housing_median_age  15687 non-null  int64  \n",
      " 3   total_rooms         15687 non-null  int64  \n",
      " 4   total_bedrooms      15530 non-null  float64\n",
      " 5   population          15687 non-null  int64  \n",
      " 6   households          15687 non-null  int64  \n",
      " 7   median_income       15687 non-null  float64\n",
      " 8   median_house_value  15687 non-null  int64  \n",
      "dtypes: float64(4), int64(5)\n",
      "memory usage: 1.2 MB\n"
     ]
    }
   ],
   "source": [
    "# filtered \n",
    "df_use.info()"
   ]
  },
  {
   "cell_type": "code",
   "execution_count": 56,
   "metadata": {
    "scrolled": true
   },
   "outputs": [
    {
     "data": {
      "text/plain": [
       "count     15687.000000\n",
       "mean     191943.020017\n",
       "std      108801.077620\n",
       "min       14999.000000\n",
       "25%      111300.000000\n",
       "50%      166900.000000\n",
       "75%      241100.000000\n",
       "max      500001.000000\n",
       "Name: median_house_value, dtype: float64"
      ]
     },
     "execution_count": 56,
     "metadata": {},
     "output_type": "execute_result"
    }
   ],
   "source": [
    "df_use.median_house_value.describe()"
   ]
  },
  {
   "cell_type": "code",
   "execution_count": 57,
   "metadata": {},
   "outputs": [
    {
     "data": {
      "image/png": "[encoded data removed]",
      "text/plain": [
       "<Figure size 432x288 with 1 Axes>"
      ]
     },
     "metadata": {
      "needs_background": "light"
     },
     "output_type": "display_data"
    }
   ],
   "source": [
    "bins = int(0.001 * len(df_use.median_house_value))\n",
    "\n",
    "plt.title('Histogram: Median House Value (20)')\n",
    "sns.histplot(df_use.median_house_value, bins=bins, color='red');"
   ]
  },
  {
   "cell_type": "markdown",
   "metadata": {},
   "source": [
    "Look at the `median_house_value` variable. Does it have a long tail?\n",
    "\n",
    "#### Ans: I wouldn't say its particularly long, as we can observe a median centered around the ~180k mark"
   ]
  },
  {
   "cell_type": "code",
   "execution_count": 58,
   "metadata": {},
   "outputs": [
    {
     "data": {
      "image/png": "[encoded data removed]",
      "text/plain": [
       "<Figure size 432x288 with 1 Axes>"
      ]
     },
     "metadata": {
      "needs_background": "light"
     },
     "output_type": "display_data"
    }
   ],
   "source": [
    "plt.title('Histogram: Median House Value (10)')\n",
    "sns.histplot(df_use.median_house_value, bins=10, color='blue');"
   ]
  },
  {
   "cell_type": "code",
   "execution_count": 59,
   "metadata": {},
   "outputs": [
    {
     "data": {
      "image/png": "[encoded data removed]",
      "text/plain": [
       "<Figure size 432x288 with 1 Axes>"
      ]
     },
     "metadata": {
      "needs_background": "light"
     },
     "output_type": "display_data"
    }
   ],
   "source": [
    "plt.title('Histogram: Median House Value (200)')\n",
    "sns.histplot(df_use.median_house_value, bins=200, color='green');"
   ]
  },
  {
   "cell_type": "markdown",
   "metadata": {},
   "source": [
    "#### Cutting the bins in have to generalize the range of the data we can see that the tail is very much minimized, however the range of the data does seem to be more pronounced as we \"overfit\" the bins. I would therefore say there really isn't a strong tail to this particular feature, however there does seem to be a decent spread of the data across house values especially at the high end range"
   ]
  },
  {
   "cell_type": "code",
   "execution_count": 61,
   "metadata": {},
   "outputs": [
    {
     "data": {
      "text/plain": [
       "latitude              False\n",
       "longitude             False\n",
       "housing_median_age    False\n",
       "total_rooms           False\n",
       "total_bedrooms         True\n",
       "population            False\n",
       "households            False\n",
       "median_income         False\n",
       "median_house_value    False\n",
       "dtype: bool"
      ]
     },
     "metadata": {},
     "output_type": "display_data"
    },
    {
     "name": "stdout",
     "output_type": "stream",
     "text": [
      "\n"
     ]
    },
    {
     "data": {
      "text/plain": [
       "latitude                0\n",
       "longitude               0\n",
       "housing_median_age      0\n",
       "total_rooms             0\n",
       "total_bedrooms        157\n",
       "population              0\n",
       "households              0\n",
       "median_income           0\n",
       "median_house_value      0\n",
       "dtype: int64"
      ]
     },
     "metadata": {},
     "output_type": "display_data"
    }
   ],
   "source": [
    "# Missing values\n",
    "# Accounts which features have NaNs in the column. Which is indicative of missing values\n",
    "display(df_use.isna().any())\n",
    "\n",
    "print('')\n",
    "# Gives counts of NaNs in the data per feature\n",
    "display(df_use.isna().sum())"
   ]
  },
  {
   "cell_type": "code",
   "execution_count": 64,
   "metadata": {},
   "outputs": [
    {
     "data": {
      "text/plain": [
       "count    15687.000000\n",
       "mean      1466.317205\n",
       "std       1180.389908\n",
       "min          3.000000\n",
       "25%        802.000000\n",
       "50%       1195.000000\n",
       "75%       1777.000000\n",
       "max      35682.000000\n",
       "Name: population, dtype: float64"
      ]
     },
     "metadata": {},
     "output_type": "display_data"
    },
    {
     "name": "stdout",
     "output_type": "stream",
     "text": [
      "50%: 1195.0\n",
      "50% via numpy: 1195.0\n"
     ]
    }
   ],
   "source": [
    "# Median Value \n",
    "display(df_use.population.describe())\n",
    "\n",
    "print('50%: {}'.format(df_use.population.describe()[5]))\n",
    "\n",
    "print('50% via numpy: {}'.format(np.median(df_use.population)))"
   ]
  },
  {
   "cell_type": "markdown",
   "metadata": {},
   "source": [
    "### Shuffle"
   ]
  },
  {
   "cell_type": "code",
   "execution_count": 131,
   "metadata": {},
   "outputs": [],
   "source": [
    "np.random.seed(42)\n",
    "\n",
    "n = df_use.shape[0] # 15687\n",
    "twenty_perc = int(0.2*n)\n",
    "sixty_perc = n - (2*twenty_perc)\n",
    "\n",
    "# print(twenty_perc + sixty_perc + twenty_perc == n) # Check split == True}"
   ]
  },
  {
   "cell_type": "code",
   "execution_count": 132,
   "metadata": {},
   "outputs": [],
   "source": [
    "arr = np.arange(n) # (n, )\n",
    "np.random.shuffle(arr) ### shuffles in place ###"
   ]
  },
  {
   "cell_type": "code",
   "execution_count": 133,
   "metadata": {},
   "outputs": [],
   "source": [
    "df_shuffled = df_use.iloc[arr] # location each index in order of shuffled 'arr'\n",
    "\n",
    "test = df_shuffled[:twenty_perc] # 0 to 20%\n",
    "val = df_shuffled[twenty_perc:2*twenty_perc] # 20 to 40%\n",
    "train = df_shuffled[2*twenty_perc:] # 40 to 100% "
   ]
  },
  {
   "cell_type": "code",
   "execution_count": 134,
   "metadata": {},
   "outputs": [],
   "source": [
    "def reset_index(df):\n",
    "    df.reset_index(drop=True,inplace=True)\n",
    "    \n",
    "for df in [train, test, val]: \n",
    "    reset_index(df)"
   ]
  },
  {
   "cell_type": "code",
   "execution_count": 135,
   "metadata": {},
   "outputs": [
    {
     "data": {
      "text/html": [
       "<div>\n",
       "<style scoped>\n",
       "    .dataframe tbody tr th:only-of-type {\n",
       "        vertical-align: middle;\n",
       "    }\n",
       "\n",
       "    .dataframe tbody tr th {\n",
       "        vertical-align: top;\n",
       "    }\n",
       "\n",
       "    .dataframe thead th {\n",
       "        text-align: right;\n",
       "    }\n",
       "</style>\n",
       "<table border=\"1\" class=\"dataframe\">\n",
       "  <thead>\n",
       "    <tr style=\"text-align: right;\">\n",
       "      <th></th>\n",
       "      <th>latitude</th>\n",
       "      <th>longitude</th>\n",
       "      <th>housing_median_age</th>\n",
       "      <th>total_rooms</th>\n",
       "      <th>total_bedrooms</th>\n",
       "      <th>population</th>\n",
       "      <th>households</th>\n",
       "      <th>median_income</th>\n",
       "      <th>median_house_value</th>\n",
       "    </tr>\n",
       "  </thead>\n",
       "  <tbody>\n",
       "    <tr>\n",
       "      <th>0</th>\n",
       "      <td>38.62</td>\n",
       "      <td>121.37</td>\n",
       "      <td>43</td>\n",
       "      <td>1077</td>\n",
       "      <td>199.0</td>\n",
       "      <td>447</td>\n",
       "      <td>182</td>\n",
       "      <td>3.0139</td>\n",
       "      <td>115600</td>\n",
       "    </tr>\n",
       "    <tr>\n",
       "      <th>1</th>\n",
       "      <td>34.13</td>\n",
       "      <td>117.66</td>\n",
       "      <td>17</td>\n",
       "      <td>3229</td>\n",
       "      <td>405.0</td>\n",
       "      <td>1289</td>\n",
       "      <td>407</td>\n",
       "      <td>6.3842</td>\n",
       "      <td>307100</td>\n",
       "    </tr>\n",
       "    <tr>\n",
       "      <th>2</th>\n",
       "      <td>39.00</td>\n",
       "      <td>121.00</td>\n",
       "      <td>4</td>\n",
       "      <td>170</td>\n",
       "      <td>23.0</td>\n",
       "      <td>93</td>\n",
       "      <td>27</td>\n",
       "      <td>10.9891</td>\n",
       "      <td>312500</td>\n",
       "    </tr>\n",
       "  </tbody>\n",
       "</table>\n",
       "</div>"
      ],
      "text/plain": [
       "   latitude  longitude  housing_median_age  total_rooms  total_bedrooms  \\\n",
       "0     38.62     121.37                  43         1077           199.0   \n",
       "1     34.13     117.66                  17         3229           405.0   \n",
       "2     39.00     121.00                   4          170            23.0   \n",
       "\n",
       "   population  households  median_income  median_house_value  \n",
       "0         447         182         3.0139              115600  \n",
       "1        1289         407         6.3842              307100  \n",
       "2          93          27        10.9891              312500  "
      ]
     },
     "execution_count": 135,
     "metadata": {},
     "output_type": "execute_result"
    }
   ],
   "source": [
    "train.head(3) # reset index \n",
    "# test.head(3) # reset index "
   ]
  },
  {
   "cell_type": "code",
   "execution_count": 136,
   "metadata": {},
   "outputs": [],
   "source": [
    "### Apply Transform ### \n",
    "y_train = np.log1p(train['median_house_value'])\n",
    "y_test = np.log1p(test['median_house_value'])\n",
    "y_val = np.log1p(val['median_house_value'])\n",
    "                   \n",
    "del train['median_house_value']\n",
    "del test['median_house_value']\n",
    "del val['median_house_value']"
   ]
  },
  {
   "cell_type": "markdown",
   "metadata": {},
   "source": [
    "### Compute Missing "
   ]
  },
  {
   "cell_type": "code",
   "execution_count": 137,
   "metadata": {},
   "outputs": [
    {
     "data": {
      "text/plain": [
       "430.0"
      ]
     },
     "execution_count": 137,
     "metadata": {},
     "output_type": "execute_result"
    }
   ],
   "source": [
    "train['total_bedrooms'].median()"
   ]
  },
  {
   "cell_type": "code",
   "execution_count": 139,
   "metadata": {},
   "outputs": [],
   "source": [
    "zero = 0 \n",
    "mean = train['total_bedrooms'].mean()\n",
    "median = train['total_bedrooms'].median()\n",
    "\n",
    "def fill_df(df, feature, value):\n",
    "    x = df.copy()\n",
    "    x[feature].fillna(value, inplace=True)\n",
    "    return x\n",
    "\n",
    "def lr(X, y):\n",
    "    ones = np.ones(X.shape[0])\n",
    "    X = np.column_stack([ones, X])\n",
    "\n",
    "    XTX = X.T.dot(X)\n",
    "    XTX_inv = np.linalg.inv(XTX)\n",
    "    w_full = XTX_inv.dot(X.T).dot(y)\n",
    "    \n",
    "    return w_full[0], w_full[1:]\n",
    "\n",
    "def rmse(y, y_pred):\n",
    "    se = (y - y_pred) ** 2\n",
    "    mse = se.mean()\n",
    "    return np.sqrt(mse)\n",
    "\n",
    "# linear regression loop for computed missing values\n",
    "scores = []\n",
    "for value in [zero, mean, median]: \n",
    "    # compute missing\n",
    "    X_train = fill_df(train, 'total_bedrooms', value)\n",
    "    X_val = fill_df(val, 'total_bedrooms', value)\n",
    "    \n",
    "    # lin reg\n",
    "    w0, w = lr(X_train, y_train)\n",
    "    y_pred = w0 + X_val.dot(w)\n",
    "    score = rmse(y_val, y_pred)\n",
    "    scores.append(round(score,2))"
   ]
  },
  {
   "cell_type": "code",
   "execution_count": 145,
   "metadata": {},
   "outputs": [
    {
     "name": "stdout",
     "output_type": "stream",
     "text": [
      "Computed missing w/ zero\n",
      "RSME = 0.35\n",
      "\n",
      "\n",
      "Computed missing w/ mean\n",
      "RSME = 0.35\n",
      "\n",
      "\n",
      "Computed missing w/ median\n",
      "RSME = 0.35\n",
      "\n",
      "\n"
     ]
    }
   ],
   "source": [
    "for score, value in zip(scores, ['zero', 'mean', 'median']): \n",
    "    print('Computed missing w/ {}\\nRSME = {}\\n\\n'.format(value, score))"
   ]
  },
  {
   "cell_type": "code",
   "execution_count": 150,
   "metadata": {},
   "outputs": [
    {
     "name": "stdout",
     "output_type": "stream",
     "text": [
      "For r = 0, w0 = -10.480324435026812 and RSME = 0.35\n",
      "For r = 1e-06, w0 = -10.48030239663522 and RSME = 0.35\n",
      "For r = 0.0001, w0 = -10.478121095534501 and RSME = 0.35\n",
      "For r = 0.001, w0 = -10.458332640312065 and RSME = 0.35\n",
      "For r = 0.01, w0 = -10.264481613269796 and RSME = 0.35\n",
      "For r = 0.1, w0 = -8.659330009210445 and RSME = 0.35\n",
      "For r = 1, w0 = -3.376308752765438 and RSME = 0.35\n",
      "For r = 5, w0 = -0.9077005089931597 and RSME = 0.35\n",
      "For r = 10, w0 = -0.47301493826997854 and RSME = 0.35\n"
     ]
    }
   ],
   "source": [
    "def lr(X, y, r=0.0):\n",
    "    ones = np.ones(X.shape[0])\n",
    "    X = np.column_stack([ones, X])\n",
    "\n",
    "    XTX = X.T.dot(X)\n",
    "    reg = r * np.eye(XTX.shape[0])\n",
    "    XTX = XTX + reg\n",
    "    \n",
    "    XTX_inv = np.linalg.inv(XTX)\n",
    "    w_full = XTX_inv.dot(X.T).dot(y)\n",
    "    \n",
    "    return w_full[0], w_full[1:]\n",
    "\n",
    "scores = []\n",
    "# X_train_q4 = fill_df(train, 'total_bedrooms', zero)\n",
    "for r in [0, 0.000001, 0.0001, 0.001, 0.01, 0.1, 1, 5, 10]:\n",
    "    w0, w = lr(X_train, y_train, r=r)\n",
    "    X_val = fill_df(val,'total_bedrooms', zero)\n",
    "    \n",
    "    y_pred = w0 + X_val.dot(w)\n",
    "    score = rmse(y_val, y_pred)\n",
    "    \n",
    "    print('For r = {}, w0 = {} and RSME = {}'.format(r, w0, round(score, 2)))"
   ]
  },
  {
   "cell_type": "code",
   "execution_count": 164,
   "metadata": {},
   "outputs": [
    {
     "name": "stdout",
     "output_type": "stream",
     "text": [
      "For seed = 0, score = 0.33567555045571573\n",
      "For seed = 1, score = 0.3370539549590208\n",
      "For seed = 2, score = 0.3358111299195415\n",
      "For seed = 3, score = 0.3493318326666498\n",
      "For seed = 4, score = 0.32967196605372057\n",
      "For seed = 5, score = 0.34242778721310774\n",
      "For seed = 6, score = 0.34288926596256875\n",
      "For seed = 7, score = 0.33389195014692064\n",
      "For seed = 8, score = 0.3406998500539437\n",
      "For seed = 9, score = 0.3379334325636343\n"
     ]
    }
   ],
   "source": [
    "scores = []\n",
    "for seed in [0, 1, 2, 3, 4, 5, 6, 7, 8, 9]: \n",
    "    np.random.seed(seed)\n",
    "    \n",
    "    n = df_use.shape[0] # 15687\n",
    "    twenty_perc = int(0.2*n)\n",
    "    sixty_perc = n - (2*twenty_perc)\n",
    "    \n",
    "    arr = np.arange(n) # (n, )\n",
    "    np.random.shuffle(arr) ### shuffles in place ###\n",
    "\n",
    "    df_shuffled = df_use.iloc[arr] # location each index in order of shuffled 'arr'\n",
    "\n",
    "    test = df_shuffled[:twenty_perc] # 0 to 20%\n",
    "    val = df_shuffled[twenty_perc:2*twenty_perc] # 20 to 40%\n",
    "    train = df_shuffled[2*twenty_perc:] # 40 to 100% \n",
    "    \n",
    "    y_train = np.log1p(train['median_house_value'])\n",
    "    y_test = np.log1p(test['median_house_value'])\n",
    "    y_val = np.log1p(val['median_house_value'])\n",
    "    \n",
    "    X_train = fill_df(train, 'total_bedrooms', zero)\n",
    "    X_val = fill_df(val,'total_bedrooms', zero)\n",
    "    \n",
    "    del X_train['median_house_value']\n",
    "    del X_val['median_house_value']\n",
    "    \n",
    "    w0, w = lr(X_train, y_train)\n",
    "    y_pred = w0 + X_val.dot(w)\n",
    "    score = rmse(y_val, y_pred)\n",
    "    \n",
    "    scores.append(score)\n",
    "    \n",
    "    print('For seed = {}, score = {}'.format(seed, score))"
   ]
  },
  {
   "cell_type": "code",
   "execution_count": 165,
   "metadata": {},
   "outputs": [
    {
     "data": {
      "text/plain": [
       "0.005231004122419761"
      ]
     },
     "execution_count": 165,
     "metadata": {},
     "output_type": "execute_result"
    }
   ],
   "source": [
    "np.std(scores)"
   ]
  },
  {
   "cell_type": "code",
   "execution_count": 167,
   "metadata": {},
   "outputs": [],
   "source": [
    "np.random.seed(9)\n",
    "\n",
    "n = df_use.shape[0] # 15687\n",
    "twenty_perc = int(0.2*n)\n",
    "sixty_perc = n - (2*twenty_perc)\n",
    "np.random.seed(42)\n",
    "\n",
    "arr = np.arange(n) # (n, )\n",
    "np.random.shuffle(arr) ### shuffles in place ###\n",
    "\n",
    "df_shuffled = df_use.iloc[arr] # location each index in order of shuffled 'arr'\n",
    "\n",
    "test = df_shuffled[:twenty_perc] # 0 to 20%\n",
    "val = df_shuffled[twenty_perc:2*twenty_perc] # 20 to 40%\n",
    "train = df_shuffled[2*twenty_perc:] # 40 to 100% \n",
    "\n",
    "y_train = np.log1p(train['median_house_value'])\n",
    "y_test = np.log1p(test['median_house_value'])\n",
    "y_val = np.log1p(val['median_house_value'])\n",
    "\n",
    "y_train = np.log1p(train['median_house_value'])\n",
    "y_test = np.log1p(test['median_house_value'])\n",
    "y_val = np.log1p(val['median_house_value'])\n",
    "                   \n",
    "X_train = fill_df(train, 'total_bedrooms', zero)\n",
    "X_val = fill_df(val,'total_bedrooms', zero)\n",
    "\n",
    "del X_train['median_house_value']\n",
    "del X_val['median_house_value']\n",
    "\n",
    "r = 0.001\n",
    "\n",
    "w0, w = lr(X_train, y_train, r=r)\n",
    "y_pred = w0 + X_val.dot(w)\n",
    "score = rmse(y_val, y_pred)\n"
   ]
  },
  {
   "cell_type": "code",
   "execution_count": 168,
   "metadata": {},
   "outputs": [
    {
     "data": {
      "text/plain": [
       "0.3481052615500097"
      ]
     },
     "execution_count": 168,
     "metadata": {},
     "output_type": "execute_result"
    }
   ],
   "source": [
    "score"
   ]
  },
  {
   "cell_type": "code",
   "execution_count": null,
   "metadata": {},
   "outputs": [],
   "source": []
  }
 ],
 "metadata": {
  "kernelspec": {
   "display_name": "Python 3",
   "language": "python",
   "name": "python3"
  },
  "language_info": {
   "codemirror_mode": {
    "name": "ipython",
    "version": 3
   },
   "file_extension": ".py",
   "mimetype": "text/x-python",
   "name": "python",
   "nbconvert_exporter": "python",
   "pygments_lexer": "ipython3",
   "version": "3.8.5"
  }
 },
 "nbformat": 4,
 "nbformat_minor": 4
}
